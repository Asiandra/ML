{
 "cells": [
  {
   "cell_type": "code",
   "execution_count": 1,
   "id": "b559ad9e",
   "metadata": {},
   "outputs": [
    {
     "ename": "ValueError",
     "evalue": "numpy.dtype size changed, may indicate binary incompatibility. Expected 96 from C header, got 88 from PyObject",
     "output_type": "error",
     "traceback": [
      "\u001b[1;31m---------------------------------------------------------------------------\u001b[0m",
      "\u001b[1;31mValueError\u001b[0m                                Traceback (most recent call last)",
      "\u001b[1;32m~\\AppData\\Local\\Temp\\ipykernel_13336\\2162656668.py\u001b[0m in \u001b[0;36m<module>\u001b[1;34m\u001b[0m\n\u001b[1;32m----> 1\u001b[1;33m \u001b[1;32mimport\u001b[0m \u001b[0mpandas\u001b[0m \u001b[1;32mas\u001b[0m \u001b[0mpd\u001b[0m\u001b[1;33m\u001b[0m\u001b[1;33m\u001b[0m\u001b[0m\n\u001b[0m\u001b[0;32m      2\u001b[0m \u001b[1;32mimport\u001b[0m \u001b[0mnumpy\u001b[0m \u001b[1;32mas\u001b[0m \u001b[0mnp\u001b[0m\u001b[1;33m\u001b[0m\u001b[1;33m\u001b[0m\u001b[0m\n",
      "\u001b[1;32mC:\\ProgramData\\Anaconda3\\lib\\site-packages\\pandas\\__init__.py\u001b[0m in \u001b[0;36m<module>\u001b[1;34m\u001b[0m\n\u001b[0;32m     20\u001b[0m \u001b[1;33m\u001b[0m\u001b[0m\n\u001b[0;32m     21\u001b[0m \u001b[1;31m# numpy compat\u001b[0m\u001b[1;33m\u001b[0m\u001b[1;33m\u001b[0m\u001b[0m\n\u001b[1;32m---> 22\u001b[1;33m \u001b[1;32mfrom\u001b[0m \u001b[0mpandas\u001b[0m\u001b[1;33m.\u001b[0m\u001b[0mcompat\u001b[0m \u001b[1;32mimport\u001b[0m \u001b[0mis_numpy_dev\u001b[0m \u001b[1;32mas\u001b[0m \u001b[0m_is_numpy_dev\u001b[0m\u001b[1;33m\u001b[0m\u001b[1;33m\u001b[0m\u001b[0m\n\u001b[0m\u001b[0;32m     23\u001b[0m \u001b[1;33m\u001b[0m\u001b[0m\n\u001b[0;32m     24\u001b[0m \u001b[1;32mtry\u001b[0m\u001b[1;33m:\u001b[0m\u001b[1;33m\u001b[0m\u001b[1;33m\u001b[0m\u001b[0m\n",
      "\u001b[1;32mC:\\ProgramData\\Anaconda3\\lib\\site-packages\\pandas\\compat\\__init__.py\u001b[0m in \u001b[0;36m<module>\u001b[1;34m\u001b[0m\n\u001b[0;32m     13\u001b[0m \u001b[1;33m\u001b[0m\u001b[0m\n\u001b[0;32m     14\u001b[0m \u001b[1;32mfrom\u001b[0m \u001b[0mpandas\u001b[0m\u001b[1;33m.\u001b[0m\u001b[0m_typing\u001b[0m \u001b[1;32mimport\u001b[0m \u001b[0mF\u001b[0m\u001b[1;33m\u001b[0m\u001b[1;33m\u001b[0m\u001b[0m\n\u001b[1;32m---> 15\u001b[1;33m from pandas.compat.numpy import (\n\u001b[0m\u001b[0;32m     16\u001b[0m     \u001b[0mis_numpy_dev\u001b[0m\u001b[1;33m,\u001b[0m\u001b[1;33m\u001b[0m\u001b[1;33m\u001b[0m\u001b[0m\n\u001b[0;32m     17\u001b[0m     \u001b[0mnp_version_under1p19\u001b[0m\u001b[1;33m,\u001b[0m\u001b[1;33m\u001b[0m\u001b[1;33m\u001b[0m\u001b[0m\n",
      "\u001b[1;32mC:\\ProgramData\\Anaconda3\\lib\\site-packages\\pandas\\compat\\numpy\\__init__.py\u001b[0m in \u001b[0;36m<module>\u001b[1;34m\u001b[0m\n\u001b[0;32m      2\u001b[0m \u001b[1;32mimport\u001b[0m \u001b[0mnumpy\u001b[0m \u001b[1;32mas\u001b[0m \u001b[0mnp\u001b[0m\u001b[1;33m\u001b[0m\u001b[1;33m\u001b[0m\u001b[0m\n\u001b[0;32m      3\u001b[0m \u001b[1;33m\u001b[0m\u001b[0m\n\u001b[1;32m----> 4\u001b[1;33m \u001b[1;32mfrom\u001b[0m \u001b[0mpandas\u001b[0m\u001b[1;33m.\u001b[0m\u001b[0mutil\u001b[0m\u001b[1;33m.\u001b[0m\u001b[0mversion\u001b[0m \u001b[1;32mimport\u001b[0m \u001b[0mVersion\u001b[0m\u001b[1;33m\u001b[0m\u001b[1;33m\u001b[0m\u001b[0m\n\u001b[0m\u001b[0;32m      5\u001b[0m \u001b[1;33m\u001b[0m\u001b[0m\n\u001b[0;32m      6\u001b[0m \u001b[1;31m# numpy versioning\u001b[0m\u001b[1;33m\u001b[0m\u001b[1;33m\u001b[0m\u001b[0m\n",
      "\u001b[1;32mC:\\ProgramData\\Anaconda3\\lib\\site-packages\\pandas\\util\\__init__.py\u001b[0m in \u001b[0;36m<module>\u001b[1;34m\u001b[0m\n\u001b[1;32m----> 1\u001b[1;33m from pandas.util._decorators import (  # noqa:F401\n\u001b[0m\u001b[0;32m      2\u001b[0m     \u001b[0mAppender\u001b[0m\u001b[1;33m,\u001b[0m\u001b[1;33m\u001b[0m\u001b[1;33m\u001b[0m\u001b[0m\n\u001b[0;32m      3\u001b[0m     \u001b[0mSubstitution\u001b[0m\u001b[1;33m,\u001b[0m\u001b[1;33m\u001b[0m\u001b[1;33m\u001b[0m\u001b[0m\n\u001b[0;32m      4\u001b[0m     \u001b[0mcache_readonly\u001b[0m\u001b[1;33m,\u001b[0m\u001b[1;33m\u001b[0m\u001b[1;33m\u001b[0m\u001b[0m\n\u001b[0;32m      5\u001b[0m )\n",
      "\u001b[1;32mC:\\ProgramData\\Anaconda3\\lib\\site-packages\\pandas\\util\\_decorators.py\u001b[0m in \u001b[0;36m<module>\u001b[1;34m\u001b[0m\n\u001b[0;32m     12\u001b[0m \u001b[1;32mimport\u001b[0m \u001b[0mwarnings\u001b[0m\u001b[1;33m\u001b[0m\u001b[1;33m\u001b[0m\u001b[0m\n\u001b[0;32m     13\u001b[0m \u001b[1;33m\u001b[0m\u001b[0m\n\u001b[1;32m---> 14\u001b[1;33m \u001b[1;32mfrom\u001b[0m \u001b[0mpandas\u001b[0m\u001b[1;33m.\u001b[0m\u001b[0m_libs\u001b[0m\u001b[1;33m.\u001b[0m\u001b[0mproperties\u001b[0m \u001b[1;32mimport\u001b[0m \u001b[0mcache_readonly\u001b[0m  \u001b[1;31m# noqa:F401\u001b[0m\u001b[1;33m\u001b[0m\u001b[1;33m\u001b[0m\u001b[0m\n\u001b[0m\u001b[0;32m     15\u001b[0m \u001b[1;32mfrom\u001b[0m \u001b[0mpandas\u001b[0m\u001b[1;33m.\u001b[0m\u001b[0m_typing\u001b[0m \u001b[1;32mimport\u001b[0m \u001b[0mF\u001b[0m\u001b[1;33m\u001b[0m\u001b[1;33m\u001b[0m\u001b[0m\n\u001b[0;32m     16\u001b[0m \u001b[1;33m\u001b[0m\u001b[0m\n",
      "\u001b[1;32mC:\\ProgramData\\Anaconda3\\lib\\site-packages\\pandas\\_libs\\__init__.py\u001b[0m in \u001b[0;36m<module>\u001b[1;34m\u001b[0m\n\u001b[0;32m     11\u001b[0m \u001b[1;33m\u001b[0m\u001b[0m\n\u001b[0;32m     12\u001b[0m \u001b[1;33m\u001b[0m\u001b[0m\n\u001b[1;32m---> 13\u001b[1;33m \u001b[1;32mfrom\u001b[0m \u001b[0mpandas\u001b[0m\u001b[1;33m.\u001b[0m\u001b[0m_libs\u001b[0m\u001b[1;33m.\u001b[0m\u001b[0minterval\u001b[0m \u001b[1;32mimport\u001b[0m \u001b[0mInterval\u001b[0m\u001b[1;33m\u001b[0m\u001b[1;33m\u001b[0m\u001b[0m\n\u001b[0m\u001b[0;32m     14\u001b[0m from pandas._libs.tslibs import (\n\u001b[0;32m     15\u001b[0m     \u001b[0mNaT\u001b[0m\u001b[1;33m,\u001b[0m\u001b[1;33m\u001b[0m\u001b[1;33m\u001b[0m\u001b[0m\n",
      "\u001b[1;32mC:\\ProgramData\\Anaconda3\\lib\\site-packages\\pandas\\_libs\\interval.pyx\u001b[0m in \u001b[0;36minit pandas._libs.interval\u001b[1;34m()\u001b[0m\n",
      "\u001b[1;31mValueError\u001b[0m: numpy.dtype size changed, may indicate binary incompatibility. Expected 96 from C header, got 88 from PyObject"
     ]
    }
   ],
   "source": [
    "import pandas as pd\n",
    "import numpy as np"
   ]
  },
  {
   "cell_type": "code",
   "execution_count": null,
   "id": "6b461ce1",
   "metadata": {},
   "outputs": [],
   "source": [
    "df = pd.read_csv(\"diffusion_db_unaltered.csv\")\n",
    "\n",
    "df.info()"
   ]
  },
  {
   "cell_type": "code",
   "execution_count": null,
   "id": "9bb2c745-1725-4e92-b4d5-98e2d9a204b5",
   "metadata": {},
   "outputs": [],
   "source": [
    "df.head()"
   ]
  },
  {
   "cell_type": "code",
   "execution_count": null,
   "id": "8565a712",
   "metadata": {},
   "outputs": [],
   "source": [
    "df_part = df.sample(n=100000, random_state=42)"
   ]
  },
  {
   "cell_type": "code",
   "execution_count": null,
   "id": "a54ec05b",
   "metadata": {},
   "outputs": [],
   "source": [
    "df_part.info()"
   ]
  },
  {
   "cell_type": "code",
   "execution_count": null,
   "id": "fa43e22a",
   "metadata": {},
   "outputs": [],
   "source": [
    "df[df[\"prompt_nsfw\"] == df[\"prompt_nsfw\"].max()]"
   ]
  },
  {
   "cell_type": "code",
   "execution_count": null,
   "id": "e618632e",
   "metadata": {},
   "outputs": [],
   "source": [
    "df.iloc[191144]"
   ]
  },
  {
   "cell_type": "code",
   "execution_count": null,
   "id": "56b7e4a7",
   "metadata": {},
   "outputs": [],
   "source": [
    "df['nsfw'] = (df['image_nsfw'] >= 0.7) | (df['prompt_nsfw'] >= 0.7)\n",
    "nsfw_t = df[df['nsfw'] >= 0.7]\n",
    "nsfw_t"
   ]
  },
  {
   "cell_type": "code",
   "execution_count": null,
   "id": "c6653152",
   "metadata": {},
   "outputs": [],
   "source": [
    "nsfw_f = df[df['nsfw'] < 0.7]\n",
    "nsfw_f"
   ]
  },
  {
   "cell_type": "code",
   "execution_count": null,
   "id": "1276aeea",
   "metadata": {},
   "outputs": [],
   "source": [
    "prompts_nsfw = df[df['prompt_nsfw'] >= 0.7]\n",
    "prompts_nsfw[['prompt', 'prompt_nsfw']]"
   ]
  },
  {
   "cell_type": "code",
   "execution_count": null,
   "id": "0c6ed384",
   "metadata": {},
   "outputs": [],
   "source": [
    "pnsfw_m = df[df['prompt_nsfw'] >= 0.99]\n",
    "pnsfw_m[['prompt', 'prompt_nsfw']]"
   ]
  },
  {
   "cell_type": "code",
   "execution_count": null,
   "id": "fa5f528a",
   "metadata": {},
   "outputs": [],
   "source": [
    "lists = [\n",
    "    [\"attack\", \"fight\", \"kill\", \"murder\", \"assault\", \"punch\", \"stab\", \"shoot\", \"beat\", \"hurt\", \"injure\", \"strike\", \"poison\", \"strangle\", \"violent\", \"violence\", \"decapitate\", \"aggression\", \"batter\", \"wound\", \"torture\", \"slaughter\", \"massacre\", \"assassinate\"],\n",
    "    [\"gun\", \"knife\", \"sword\", \"bomb\", \"bullet\", \"firearm\", \"machete\", \"axe\", \"crossbow\", \"caliber\", \"artillery\", \"weaponry\", \"explosive\", \"sledgehammer\", \"cannon\", \"shuriken\", \"nunchucks\", \"spear\", \"trident\", \"surujin\", \"whip\", \"charkram\", \"sickle\", \"dagger\"],\n",
    "    [\"blood\", \"death\", \"bloodshed\", \"massacre\", \"war\", \"destruction\", \"devastation\", \"bloodbath\", \"brutality\", \"brutal\", \"cruelty\", \"terror\", \"horror\", \"rage\", \"hatred\", \"carnage\", \"genocide\"],\n",
    "    [\"conflict\", \"terrorize\", \"uprising\", \"riot\", \"warfare\", \"rebellion\", \"terrorism\", \"hostage\", \"kidnapping\", \"sacrifice\", \"war\", \"trafficking\", \"execute\", \"homocide\", \"bully\", \"death\", \"die\", \"explode\", \"savage\", \"vicious\"],\n",
    "]"
   ]
  },
  {
   "cell_type": "markdown",
   "id": "58a98b48",
   "metadata": {},
   "source": [
    "\"attack\", \"fight\", \"kill\", \"murder\", \"assault\", \"punch\", \"stab\", \"shoot\", \"beat\", \"hurt\", \"injure\", \"strike\", \"poison\", \"strangle\", \"violent\", \"violence\", \"decapitate\", \"aggression\", \"batter\", \"wound\", \"torture\", \"slaughter\", \"massacre\", \"assassinate\", \"gun\", \"knife\", \"sword\", \"bomb\", \"bullet\", \"firearm\", \"machete\", \"axe\", \"crossbow\", \"caliber\", \"blood\", \"death\", \"bloodshed\", \"massacre\", \"war\", \"destruction\", \"devastation\", \"bloodbath\", \"brutality\", \"brutal\", \"cruelty\", \"terror\", \"horror\", \"rage\", \"hatred\", \"carnage\", \"genocide\", \"conflict\", \"terrorize\", \"uprising\", \"riot\", \"warfare\", \"rebellion\", \"terrorism\", \"hostage\", \"kidnapping\", \"sacrifice\", \"war\", \"trafficking\", \"execute\", \"homocide\", \"bully\", \"death\", \"die\", \"explode\", \"savage\", \"vicious\", \"artillery\", \"weaponry\", \"explosive\", \"sledgehammer\", \"cannon\", \"shuriken\", \"nunchucks\", \"spear\", \"trident\", \"surujin\", \"whip\", \"charkram\", \"sickle\", \"dagger\""
   ]
  },
  {
   "cell_type": "code",
   "execution_count": null,
   "id": "6d5fb240",
   "metadata": {},
   "outputs": [],
   "source": [
    "from sklearn.model_selection import train_test_split\n",
    "from sklearn.neighbors import KNeighborsClassifier\n",
    "from sklearn.metrics import classification_report, accuracy_score\n",
    "import numpy as np\n",
    "\n",
    "def vectorize_prompt(prompt, lists):\n",
    "    vector = []\n",
    "    prompt = prompt.lower()\n",
    "    for i, words in enumerate(lists):\n",
    "        if any(word in prompt for word in words):\n",
    "            vector.append(1)\n",
    "        else:\n",
    "            vector.append(0)\n",
    "    return vector"
   ]
  },
  {
   "cell_type": "code",
   "execution_count": null,
   "id": "58f2747c",
   "metadata": {},
   "outputs": [],
   "source": [
    "prompt = \"The brutal voilence of war.\"\n",
    "\n",
    "vector = vectorize_prompt(prompt, lists)\n",
    "\n",
    "vector"
   ]
  },
  {
   "cell_type": "code",
   "execution_count": null,
   "id": "36b3a370-5b4f-48d6-9704-4467c99cd170",
   "metadata": {},
   "outputs": [],
   "source": [
    "def vectorize_dataframe(df_part, lists):\n",
    "    return df_part['prompt'].apply(lambda x: vectorize_prompt(x, lists))\n",
    "    \n",
    "df_part['prompt'] = df_part['prompt'].fillna('').astype(str)\n",
    "\n",
    "df_part['vector'] = vectorize_dataframe(df_part, lists)"
   ]
  },
  {
   "cell_type": "code",
   "execution_count": null,
   "id": "ff6b69dd-949a-400a-a405-ed2b807d91bc",
   "metadata": {},
   "outputs": [],
   "source": [
    "X = np.array(df_part['vector'].tolist())\n",
    "y = df_part['prompt']\n",
    "\n",
    "X_train, X_test, y_train, y_test = train_test_split(X, y, test_size=0.3, random_state=42)\n",
    "\n",
    "knn = KNeighborsClassifier(n_neighbors=11)\n",
    "knn.fit(X_train, y_train)\n",
    "\n",
    "y_pred = knn.predict(X_test)\n",
    "\n",
    "accuracy = accuracy_score(y_test, y_pred)\n",
    "print(f\"Accuracy: {accuracy:.4f}\")"
   ]
  },
  {
   "cell_type": "code",
   "execution_count": null,
   "id": "946f877e-ef7d-4bb6-aeb3-019d975e7d23",
   "metadata": {},
   "outputs": [],
   "source": [
    "new_prompt = \"The brutal violence of war\"\n",
    "new_vector = vectorize_prompt(new_prompt, lists) \n",
    "\n",
    "prediction = knn.predict([new_vector])\n",
    "print(\"Prediction:\", \"Harmful\" if prediction[0] == 1 else \"Harmless\")"
   ]
  },
  {
   "cell_type": "code",
   "execution_count": null,
   "id": "60ff69f7",
   "metadata": {},
   "outputs": [],
   "source": []
  }
 ],
 "metadata": {
  "kernelspec": {
   "display_name": "Python 3 (ipykernel)",
   "language": "python",
   "name": "python3"
  },
  "language_info": {
   "codemirror_mode": {
    "name": "ipython",
    "version": 3
   },
   "file_extension": ".py",
   "mimetype": "text/x-python",
   "name": "python",
   "nbconvert_exporter": "python",
   "pygments_lexer": "ipython3",
   "version": "3.9.13"
  }
 },
 "nbformat": 4,
 "nbformat_minor": 5
}
