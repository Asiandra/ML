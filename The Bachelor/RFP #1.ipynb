{
 "cells": [
  {
   "cell_type": "markdown",
   "id": "1b940825",
   "metadata": {},
   "source": [
    "# RFP: Betting on the Bachelor\n",
    "\n",
    "## Project Overview\n",
    "You are invited to submit a proposal that answers the following question:\n",
    "\n",
    "### Who will win season 29 of the Bachelor?\n",
    "\n",
    "*All proposals must be submitted by **1/15/25 at 11:59 PM**.*"
   ]
  },
  {
   "cell_type": "markdown",
   "id": "968a85f0",
   "metadata": {},
   "source": [
    "## Required Proposal Components\n",
    "\n",
    "### 1. Data Description\n",
    "In the code cell below, read in the data you plan on using to train and test your model. Call `info()` once you have read the data into a dataframe. Consider using some or all of the following sources:\n",
    "- [Scrape Fandom Wikis](https://bachelor-nation.fandom.com/wiki/The_Bachelor) or [the official Bachelor website]('https://bachelornation.com/shows/the-bachelor/')\n",
    "- [Ask ChatGPT to genereate it](https://chatgpt.com/)\n",
    "- [Read in csv files like this](https://www.kaggle.com/datasets/brianbgonz/the-bachelor-contestants?select=contestants.csv)\n",
    "\n",
    "*Note, a level 5 dataset contains at least 1000 rows of non-null data. A level 4 contains at least 500 rows of non-null data.*"
   ]
  },
  {
   "cell_type": "code",
   "execution_count": 9,
   "id": "08c1688a",
   "metadata": {},
   "outputs": [
    {
     "name": "stdout",
     "output_type": "stream",
     "text": [
      "<class 'pandas.core.frame.DataFrame'>\n",
      "Int64Index: 27 entries, 393 to 422\n",
      "Data columns (total 7 columns):\n",
      " #   Column      Non-Null Count  Dtype  \n",
      "---  ------      --------------  -----  \n",
      " 0   Name        27 non-null     object \n",
      " 1   Age         27 non-null     float64\n",
      " 2   Occupation  27 non-null     object \n",
      " 3   Hometown    27 non-null     object \n",
      " 4   Height      27 non-null     float64\n",
      " 5   ElimWeek    27 non-null     float64\n",
      " 6   Season      27 non-null     int64  \n",
      "dtypes: float64(3), int64(1), object(3)\n",
      "memory usage: 1.7+ KB\n"
     ]
    }
   ],
   "source": [
    "import pandas as pd\n",
    "import requests\n",
    "from bs4 import BeautifulSoup\n",
    "from sklearn.model_selection import train_test_split\n",
    "from sklearn.linear_model import LinearRegression\n",
    "\n",
    "df = pd.read_csv(\"contestants.csv\")\n",
    "df = df.dropna()\n",
    "df.info()"
   ]
  },
  {
   "cell_type": "code",
   "execution_count": 2,
   "id": "c4146135",
   "metadata": {},
   "outputs": [
    {
     "data": {
      "text/html": [
       "<div>\n",
       "<style scoped>\n",
       "    .dataframe tbody tr th:only-of-type {\n",
       "        vertical-align: middle;\n",
       "    }\n",
       "\n",
       "    .dataframe tbody tr th {\n",
       "        vertical-align: top;\n",
       "    }\n",
       "\n",
       "    .dataframe thead th {\n",
       "        text-align: right;\n",
       "    }\n",
       "</style>\n",
       "<table border=\"1\" class=\"dataframe\">\n",
       "  <thead>\n",
       "    <tr style=\"text-align: right;\">\n",
       "      <th></th>\n",
       "      <th>Name</th>\n",
       "      <th>Age</th>\n",
       "      <th>Occupation</th>\n",
       "      <th>Hometown</th>\n",
       "      <th>Height</th>\n",
       "      <th>ElimWeek</th>\n",
       "      <th>Season</th>\n",
       "    </tr>\n",
       "  </thead>\n",
       "  <tbody>\n",
       "    <tr>\n",
       "      <th>393</th>\n",
       "      <td>Alexis</td>\n",
       "      <td>23.0</td>\n",
       "      <td>Aspiring Dolphin Trainer</td>\n",
       "      <td>Secaucus, NJ</td>\n",
       "      <td>66.0</td>\n",
       "      <td>5.0</td>\n",
       "      <td>21</td>\n",
       "    </tr>\n",
       "    <tr>\n",
       "      <th>394</th>\n",
       "      <td>Angela</td>\n",
       "      <td>26.0</td>\n",
       "      <td>Model</td>\n",
       "      <td>Greenville, SC</td>\n",
       "      <td>67.0</td>\n",
       "      <td>1.0</td>\n",
       "      <td>21</td>\n",
       "    </tr>\n",
       "    <tr>\n",
       "      <th>395</th>\n",
       "      <td>Astrid</td>\n",
       "      <td>26.0</td>\n",
       "      <td>Plastic Surgery Office Manager</td>\n",
       "      <td>Tampa, FL</td>\n",
       "      <td>67.5</td>\n",
       "      <td>4.0</td>\n",
       "      <td>21</td>\n",
       "    </tr>\n",
       "    <tr>\n",
       "      <th>396</th>\n",
       "      <td>Briana</td>\n",
       "      <td>28.0</td>\n",
       "      <td>Surgical Unit Nurse</td>\n",
       "      <td>Salt Lake City, UT</td>\n",
       "      <td>64.0</td>\n",
       "      <td>1.0</td>\n",
       "      <td>21</td>\n",
       "    </tr>\n",
       "    <tr>\n",
       "      <th>397</th>\n",
       "      <td>Brittany</td>\n",
       "      <td>26.0</td>\n",
       "      <td>Travel Nurse</td>\n",
       "      <td>Santa Monica, CA</td>\n",
       "      <td>62.0</td>\n",
       "      <td>3.0</td>\n",
       "      <td>21</td>\n",
       "    </tr>\n",
       "  </tbody>\n",
       "</table>\n",
       "</div>"
      ],
      "text/plain": [
       "         Name   Age                      Occupation            Hometown  \\\n",
       "393    Alexis  23.0        Aspiring Dolphin Trainer        Secaucus, NJ   \n",
       "394    Angela  26.0                           Model      Greenville, SC   \n",
       "395    Astrid  26.0  Plastic Surgery Office Manager           Tampa, FL   \n",
       "396    Briana  28.0             Surgical Unit Nurse  Salt Lake City, UT   \n",
       "397  Brittany  26.0                    Travel Nurse    Santa Monica, CA   \n",
       "\n",
       "     Height  ElimWeek  Season  \n",
       "393    66.0       5.0      21  \n",
       "394    67.0       1.0      21  \n",
       "395    67.5       4.0      21  \n",
       "396    64.0       1.0      21  \n",
       "397    62.0       3.0      21  "
      ]
     },
     "execution_count": 2,
     "metadata": {},
     "output_type": "execute_result"
    }
   ],
   "source": [
    "df.head()"
   ]
  },
  {
   "cell_type": "code",
   "execution_count": 3,
   "id": "a85ff25a",
   "metadata": {},
   "outputs": [
    {
     "name": "stdout",
     "output_type": "stream",
     "text": [
      "<class 'pandas.core.frame.DataFrame'>\n",
      "Int64Index: 2 entries, 14 to 15\n",
      "Data columns (total 5 columns):\n",
      " #   Column    Non-Null Count  Dtype  \n",
      "---  ------    --------------  -----  \n",
      " 0   Name      2 non-null      object \n",
      " 1   Age       2 non-null      int64  \n",
      " 2   Hometown  2 non-null      object \n",
      " 3   Height    2 non-null      float64\n",
      " 4   Season    2 non-null      int64  \n",
      "dtypes: float64(1), int64(2), object(2)\n",
      "memory usage: 96.0+ bytes\n"
     ]
    }
   ],
   "source": [
    "dfb = pd.read_csv(r\"bachelors.csv\")\n",
    "dfb = dfb.dropna()\n",
    "dfb.info()"
   ]
  },
  {
   "cell_type": "code",
   "execution_count": 10,
   "id": "13f4768f",
   "metadata": {},
   "outputs": [],
   "source": [
    "url = \"https://bachelor-nation.fandom.com/wiki/The_Bachelor\"\n",
    "response = requests.get(url)\n",
    "html_content = response.text\n",
    "soup = BeautifulSoup(html_content, \"html.parser\")"
   ]
  },
  {
   "cell_type": "code",
   "execution_count": 20,
   "id": "0a9a9e1f",
   "metadata": {},
   "outputs": [
    {
     "data": {
      "text/html": [
       "<div>\n",
       "<style scoped>\n",
       "    .dataframe tbody tr th:only-of-type {\n",
       "        vertical-align: middle;\n",
       "    }\n",
       "\n",
       "    .dataframe tbody tr th {\n",
       "        vertical-align: top;\n",
       "    }\n",
       "\n",
       "    .dataframe thead th {\n",
       "        text-align: right;\n",
       "    }\n",
       "</style>\n",
       "<table border=\"1\" class=\"dataframe\">\n",
       "  <thead>\n",
       "    <tr style=\"text-align: right;\">\n",
       "      <th></th>\n",
       "      <th>Season</th>\n",
       "      <th>Original Run</th>\n",
       "      <th>Bachelor</th>\n",
       "      <th>Winner</th>\n",
       "      <th>Runner-Up</th>\n",
       "      <th>Proposal</th>\n",
       "      <th>Still Together</th>\n",
       "    </tr>\n",
       "  </thead>\n",
       "  <tbody>\n",
       "    <tr>\n",
       "      <th>1</th>\n",
       "      <td>1</td>\n",
       "      <td>March 25 – April 25, 2002</td>\n",
       "      <td>Alex Michel</td>\n",
       "      <td>Amanda Marsh</td>\n",
       "      <td>Trista Rehn</td>\n",
       "      <td>No</td>\n",
       "      <td>No</td>\n",
       "    </tr>\n",
       "    <tr>\n",
       "      <th>2</th>\n",
       "      <td>2</td>\n",
       "      <td>September 25 – November 20, 2002</td>\n",
       "      <td>Aaron Buerge</td>\n",
       "      <td>Helene Eksterowicz</td>\n",
       "      <td>Brooke Smith</td>\n",
       "      <td>Yes</td>\n",
       "      <td>No</td>\n",
       "    </tr>\n",
       "    <tr>\n",
       "      <th>3</th>\n",
       "      <td>3</td>\n",
       "      <td>March 24 – May 21, 2003</td>\n",
       "      <td>Andrew Firestone</td>\n",
       "      <td>Jennifer Schefft</td>\n",
       "      <td>Kirsten Buschbacher</td>\n",
       "      <td>Yes</td>\n",
       "      <td>No</td>\n",
       "    </tr>\n",
       "    <tr>\n",
       "      <th>4</th>\n",
       "      <td>4</td>\n",
       "      <td>September 24 – November 20, 2003</td>\n",
       "      <td>Bob Guiney</td>\n",
       "      <td>Estella Gardinier</td>\n",
       "      <td>Kelly Kuharski</td>\n",
       "      <td>No</td>\n",
       "      <td>No</td>\n",
       "    </tr>\n",
       "    <tr>\n",
       "      <th>5</th>\n",
       "      <td>5</td>\n",
       "      <td>April 7 – May 26, 2004</td>\n",
       "      <td>Jesse Palmer</td>\n",
       "      <td>Jessica Bowlin</td>\n",
       "      <td>Tara Huckeby</td>\n",
       "      <td>No</td>\n",
       "      <td>No</td>\n",
       "    </tr>\n",
       "  </tbody>\n",
       "</table>\n",
       "</div>"
      ],
      "text/plain": [
       "  Season                      Original Run          Bachelor  \\\n",
       "1      1         March 25 – April 25, 2002       Alex Michel   \n",
       "2      2  September 25 – November 20, 2002      Aaron Buerge   \n",
       "3      3           March 24 – May 21, 2003  Andrew Firestone   \n",
       "4      4  September 24 – November 20, 2003        Bob Guiney   \n",
       "5      5            April 7 – May 26, 2004      Jesse Palmer   \n",
       "\n",
       "               Winner            Runner-Up Proposal Still Together  \n",
       "1        Amanda Marsh          Trista Rehn       No             No  \n",
       "2  Helene Eksterowicz         Brooke Smith      Yes             No  \n",
       "3    Jennifer Schefft  Kirsten Buschbacher      Yes             No  \n",
       "4   Estella Gardinier       Kelly Kuharski       No             No  \n",
       "5      Jessica Bowlin         Tara Huckeby       No             No  "
      ]
     },
     "execution_count": 20,
     "metadata": {},
     "output_type": "execute_result"
    }
   ],
   "source": [
    "tbody = soup.find('tbody')\n",
    "\n",
    "rows = tbody.find_all('tr')\n",
    "\n",
    "data = []\n",
    "for row in rows:\n",
    "    cols = row.find_all('td')\n",
    "    cols = [col.text.strip() for col in cols]\n",
    "    data.append(cols)\n",
    "\n",
    "dfs = pd.DataFrame(data)\n",
    "\n",
    "dfs = dfs.dropna()\n",
    "dfs.columns = ['Season', 'Original Run', 'Bachelor', 'Winner', 'Runner-Up', 'Proposal', 'Still Together']\n",
    "dfs.head()"
   ]
  },
  {
   "cell_type": "code",
   "execution_count": 25,
   "id": "91d2e930",
   "metadata": {},
   "outputs": [],
   "source": [
    "url = \"https://bachelor-nation.fandom.com/wiki/The_Bachelor_(Season_1)\"\n",
    "response = requests.get(url)\n",
    "html_content = response.text\n",
    "soup = BeautifulSoup(html_content, \"html.parser\")"
   ]
  },
  {
   "cell_type": "code",
   "execution_count": 27,
   "id": "9431cf41",
   "metadata": {},
   "outputs": [
    {
     "data": {
      "text/html": [
       "<div>\n",
       "<style scoped>\n",
       "    .dataframe tbody tr th:only-of-type {\n",
       "        vertical-align: middle;\n",
       "    }\n",
       "\n",
       "    .dataframe tbody tr th {\n",
       "        vertical-align: top;\n",
       "    }\n",
       "\n",
       "    .dataframe thead th {\n",
       "        text-align: right;\n",
       "    }\n",
       "</style>\n",
       "<table border=\"1\" class=\"dataframe\">\n",
       "  <thead>\n",
       "    <tr style=\"text-align: right;\">\n",
       "      <th></th>\n",
       "      <th>Season</th>\n",
       "      <th>Original Run</th>\n",
       "      <th>Bachelor</th>\n",
       "      <th>Winner</th>\n",
       "      <th>Runner-Up</th>\n",
       "      <th>Proposal</th>\n",
       "      <th>Still Together</th>\n",
       "    </tr>\n",
       "  </thead>\n",
       "  <tbody>\n",
       "    <tr>\n",
       "      <th>1</th>\n",
       "      <td>1</td>\n",
       "      <td>March 25 – April 25, 2002</td>\n",
       "      <td>Alex Michel</td>\n",
       "      <td>Amanda Marsh</td>\n",
       "      <td>Trista Rehn</td>\n",
       "      <td>No</td>\n",
       "      <td>No</td>\n",
       "    </tr>\n",
       "    <tr>\n",
       "      <th>2</th>\n",
       "      <td>2</td>\n",
       "      <td>September 25 – November 20, 2002</td>\n",
       "      <td>Aaron Buerge</td>\n",
       "      <td>Helene Eksterowicz</td>\n",
       "      <td>Brooke Smith</td>\n",
       "      <td>Yes</td>\n",
       "      <td>No</td>\n",
       "    </tr>\n",
       "    <tr>\n",
       "      <th>3</th>\n",
       "      <td>3</td>\n",
       "      <td>March 24 – May 21, 2003</td>\n",
       "      <td>Andrew Firestone</td>\n",
       "      <td>Jennifer Schefft</td>\n",
       "      <td>Kirsten Buschbacher</td>\n",
       "      <td>Yes</td>\n",
       "      <td>No</td>\n",
       "    </tr>\n",
       "    <tr>\n",
       "      <th>4</th>\n",
       "      <td>4</td>\n",
       "      <td>September 24 – November 20, 2003</td>\n",
       "      <td>Bob Guiney</td>\n",
       "      <td>Estella Gardinier</td>\n",
       "      <td>Kelly Kuharski</td>\n",
       "      <td>No</td>\n",
       "      <td>No</td>\n",
       "    </tr>\n",
       "    <tr>\n",
       "      <th>5</th>\n",
       "      <td>5</td>\n",
       "      <td>April 7 – May 26, 2004</td>\n",
       "      <td>Jesse Palmer</td>\n",
       "      <td>Jessica Bowlin</td>\n",
       "      <td>Tara Huckeby</td>\n",
       "      <td>No</td>\n",
       "      <td>No</td>\n",
       "    </tr>\n",
       "  </tbody>\n",
       "</table>\n",
       "</div>"
      ],
      "text/plain": [
       "  Season                      Original Run          Bachelor  \\\n",
       "1      1         March 25 – April 25, 2002       Alex Michel   \n",
       "2      2  September 25 – November 20, 2002      Aaron Buerge   \n",
       "3      3           March 24 – May 21, 2003  Andrew Firestone   \n",
       "4      4  September 24 – November 20, 2003        Bob Guiney   \n",
       "5      5            April 7 – May 26, 2004      Jesse Palmer   \n",
       "\n",
       "               Winner            Runner-Up Proposal Still Together  \n",
       "1        Amanda Marsh          Trista Rehn       No             No  \n",
       "2  Helene Eksterowicz         Brooke Smith      Yes             No  \n",
       "3    Jennifer Schefft  Kirsten Buschbacher      Yes             No  \n",
       "4   Estella Gardinier       Kelly Kuharski       No             No  \n",
       "5      Jessica Bowlin         Tara Huckeby       No             No  "
      ]
     },
     "execution_count": 27,
     "metadata": {},
     "output_type": "execute_result"
    }
   ],
   "source": [
    "tbody = soup.find('tbody')\n",
    "\n",
    "rows = tbody.find_all('tr')\n",
    "\n",
    "data = []\n",
    "for row in rows:\n",
    "    cols = row.find_all('td')\n",
    "    cols = [col.text.strip() for col in cols]\n",
    "    data.append(cols)\n",
    "\n",
    "dfs1 = pd.DataFrame(data)\n",
    "\n",
    "dfs1 = dfs.dropna()\n",
    "dfs1.columns = ['Name', 'Age', 'Hometown', 'Occupation', 'Eliminated']\n",
    "dfs1.head()"
   ]
  },
  {
   "cell_type": "markdown",
   "id": "880ff05f",
   "metadata": {},
   "source": [
    "### 2. Training Your Model\n",
    "In the cell seen below, write the code you need to train a linear regression model. Make sure you display the equation of the plane that best fits your chosen data at the end of your program. \n",
    "\n",
    "*Note, level 5 work trains a model using only the standard Python library and Pandas. A level 5 model is trained with at least two features, where one of the features begins as a categorical value (e.g. occupation, hometown, etc.). A level 4 uses external libraries like scikit or numpy.*"
   ]
  },
  {
   "cell_type": "code",
   "execution_count": 4,
   "id": "a87a9144",
   "metadata": {},
   "outputs": [],
   "source": [
    "X = df[[\"Age\"]]\n",
    "y = df[\"ElimWeek\"]\n",
    "\n",
    "X_train, X_test, y_train, y_test = train_test_split(X, y, test_size=0.3, random_state=42)"
   ]
  },
  {
   "cell_type": "code",
   "execution_count": 5,
   "id": "f495171f",
   "metadata": {},
   "outputs": [
    {
     "data": {
      "text/plain": [
       "LinearRegression()"
      ]
     },
     "execution_count": 5,
     "metadata": {},
     "output_type": "execute_result"
    }
   ],
   "source": [
    "model = LinearRegression()\n",
    "model.fit(X_train, y_train)"
   ]
  },
  {
   "cell_type": "code",
   "execution_count": 6,
   "id": "03d47388",
   "metadata": {},
   "outputs": [
    {
     "name": "stdout",
     "output_type": "stream",
     "text": [
      "-0.5357142857142858 17.31746031746032\n"
     ]
    }
   ],
   "source": [
    "slope = model.coef_[0]\n",
    "intercept = model.intercept_\n",
    "print(slope, intercept)"
   ]
  },
  {
   "cell_type": "markdown",
   "id": "cfb2b903",
   "metadata": {},
   "source": [
    "### 3. Testing Your Model\n",
    "In the cell seen below, write the code you need to test your linear regression model. \n",
    "\n",
    "*Note, a model is considered a level 5 if it achieves at least 60% prediction accuracy or achieves an RMSE of 2 weeks or less.*"
   ]
  },
  {
   "cell_type": "code",
   "execution_count": 7,
   "id": "24f8b990",
   "metadata": {},
   "outputs": [],
   "source": [
    "# Test model here."
   ]
  },
  {
   "cell_type": "markdown",
   "id": "343eb3f7",
   "metadata": {},
   "source": [
    "### 4. Final Answer\n",
    "\n",
    "In the first cell seen below, state the name of your predicted winner. \n",
    "In the second cell seen below, justify your prediction using an evaluation technique like RMSE or percent accuracy."
   ]
  },
  {
   "cell_type": "markdown",
   "id": "25533722",
   "metadata": {},
   "source": [
    "#### State the name of your predicted winner here."
   ]
  },
  {
   "cell_type": "markdown",
   "id": "e29adde2",
   "metadata": {},
   "source": [
    "#### Justify your prediction here."
   ]
  }
 ],
 "metadata": {
  "kernelspec": {
   "display_name": "Python 3 (ipykernel)",
   "language": "python",
   "name": "python3"
  },
  "language_info": {
   "codemirror_mode": {
    "name": "ipython",
    "version": 3
   },
   "file_extension": ".py",
   "mimetype": "text/x-python",
   "name": "python",
   "nbconvert_exporter": "python",
   "pygments_lexer": "ipython3",
   "version": "3.9.13"
  }
 },
 "nbformat": 4,
 "nbformat_minor": 5
}
