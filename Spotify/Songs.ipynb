{
 "cells": [
  {
   "cell_type": "code",
   "execution_count": 1,
   "id": "36adec24",
   "metadata": {},
   "outputs": [
    {
     "name": "stdout",
     "output_type": "stream",
     "text": [
      "<class 'pandas.core.frame.DataFrame'>\n",
      "RangeIndex: 147519 entries, 0 to 147518\n",
      "Data columns (total 9 columns):\n",
      " #   Column       Non-Null Count   Dtype \n",
      "---  ------       --------------   ----- \n",
      " 0   pos          147519 non-null  int64 \n",
      " 1   artist_name  147519 non-null  object\n",
      " 2   track_uri    147519 non-null  object\n",
      " 3   artist_uri   147519 non-null  object\n",
      " 4   track_name   147518 non-null  object\n",
      " 5   album_uri    147519 non-null  object\n",
      " 6   duration_ms  147519 non-null  int64 \n",
      " 7   album_name   147519 non-null  object\n",
      " 8   Genre        147519 non-null  object\n",
      "dtypes: int64(2), object(7)\n",
      "memory usage: 10.1+ MB\n"
     ]
    }
   ],
   "source": [
    "import pandas as pd\n",
    "import json\n",
    "from pandas import json_normalize\n",
    "\n",
    "df = pd.read_csv('final_data.csv')\n",
    "\n",
    "df.info()"
   ]
  },
  {
   "cell_type": "code",
   "execution_count": 5,
   "id": "a7728c34",
   "metadata": {},
   "outputs": [],
   "source": [
    "with open ('vetting_playlist.json', 'r') as file:\n",
    "    vet = json.load(file)"
   ]
  },
  {
   "cell_type": "markdown",
   "id": "7f765499",
   "metadata": {},
   "source": [
    "<p>Dancability<br>\n",
    "Year<br>\n",
    "Genre<br>\n",
    "Duration</p>"
   ]
  },
  {
   "cell_type": "code",
   "execution_count": null,
   "id": "f4239d8e",
   "metadata": {},
   "outputs": [],
   "source": []
  }
 ],
 "metadata": {
  "kernelspec": {
   "display_name": "Python 3 (ipykernel)",
   "language": "python",
   "name": "python3"
  },
  "language_info": {
   "codemirror_mode": {
    "name": "ipython",
    "version": 3
   },
   "file_extension": ".py",
   "mimetype": "text/x-python",
   "name": "python",
   "nbconvert_exporter": "python",
   "pygments_lexer": "ipython3",
   "version": "3.9.13"
  }
 },
 "nbformat": 4,
 "nbformat_minor": 5
}
