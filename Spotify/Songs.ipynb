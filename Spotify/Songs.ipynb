{
 "cells": [
  {
   "cell_type": "code",
   "execution_count": 1,
   "id": "69ad9386",
   "metadata": {},
   "outputs": [],
   "source": [
    "import pandas as pd\n",
    "import json\n",
    "from sklearn.cluster import DBSCAN\n",
    "from sklearn.metrics import silhouette_score\n",
    "import numpy as np\n",
    "from sklearn.preprocessing import OneHotEncoder"
   ]
  },
  {
   "cell_type": "code",
   "execution_count": 2,
   "id": "36adec24",
   "metadata": {},
   "outputs": [
    {
     "name": "stdout",
     "output_type": "stream",
     "text": [
      "<class 'pandas.core.frame.DataFrame'>\n",
      "RangeIndex: 147519 entries, 0 to 147518\n",
      "Data columns (total 10 columns):\n",
      " #   Column       Non-Null Count   Dtype  \n",
      "---  ------       --------------   -----  \n",
      " 0   pos          147519 non-null  int64  \n",
      " 1   artist_name  147519 non-null  object \n",
      " 2   track_uri    147519 non-null  object \n",
      " 3   artist_uri   147519 non-null  object \n",
      " 4   track_name   147518 non-null  object \n",
      " 5   album_uri    147519 non-null  object \n",
      " 6   duration_ms  147519 non-null  int64  \n",
      " 7   album_name   147519 non-null  object \n",
      " 8   Genre        147519 non-null  object \n",
      " 9   releaseYear  124588 non-null  float64\n",
      "dtypes: float64(1), int64(2), object(7)\n",
      "memory usage: 11.3+ MB\n"
     ]
    }
   ],
   "source": [
    "df = pd.read_csv('final_data.csv')\n",
    "\n",
    "df.info()"
   ]
  },
  {
   "cell_type": "code",
   "execution_count": 3,
   "id": "a7728c34",
   "metadata": {},
   "outputs": [],
   "source": [
    "with open ('vetting_playlist.json', 'r') as file:\n",
    "    vet = json.load(file)"
   ]
  },
  {
   "cell_type": "markdown",
   "id": "3f175e7f",
   "metadata": {},
   "source": [
    "<p>Dancability<br>\n",
    "Year<br>\n",
    "Genre<br>\n",
    "Duration<br>\n",
    "Popularity<br>\n",
    "Liveliness<br>\n",
    "Marked Explicit?</p>"
   ]
  },
  {
   "cell_type": "code",
   "execution_count": 4,
   "id": "1dcd4433",
   "metadata": {},
   "outputs": [
    {
     "data": {
      "text/html": [
       "<div>\n",
       "<style scoped>\n",
       "    .dataframe tbody tr th:only-of-type {\n",
       "        vertical-align: middle;\n",
       "    }\n",
       "\n",
       "    .dataframe tbody tr th {\n",
       "        vertical-align: top;\n",
       "    }\n",
       "\n",
       "    .dataframe thead th {\n",
       "        text-align: right;\n",
       "    }\n",
       "</style>\n",
       "<table border=\"1\" class=\"dataframe\">\n",
       "  <thead>\n",
       "    <tr style=\"text-align: right;\">\n",
       "      <th></th>\n",
       "      <th>pos</th>\n",
       "      <th>artist_name</th>\n",
       "      <th>track_uri</th>\n",
       "      <th>artist_uri</th>\n",
       "      <th>track_name</th>\n",
       "      <th>album_uri</th>\n",
       "      <th>duration_ms</th>\n",
       "      <th>album_name</th>\n",
       "      <th>Genre</th>\n",
       "      <th>releaseYear</th>\n",
       "    </tr>\n",
       "  </thead>\n",
       "  <tbody>\n",
       "    <tr>\n",
       "      <th>0</th>\n",
       "      <td>0</td>\n",
       "      <td>Missy Elliott</td>\n",
       "      <td>spotify:track:0UaMYEvWZi0ZqiDOoHU3YI</td>\n",
       "      <td>spotify:artist:2wIVse2owClT7go1WT98tk</td>\n",
       "      <td>Lose Control (feat. Ciara &amp; Fat Man Scoop)</td>\n",
       "      <td>spotify:album:6vV5UrXcfyQD1wu4Qo2I9K</td>\n",
       "      <td>226863</td>\n",
       "      <td>The Cookbook</td>\n",
       "      <td>hip hop</td>\n",
       "      <td>2005.0</td>\n",
       "    </tr>\n",
       "    <tr>\n",
       "      <th>1</th>\n",
       "      <td>1</td>\n",
       "      <td>Britney Spears</td>\n",
       "      <td>spotify:track:6I9VzXrHxO9rA9A5euc8Ak</td>\n",
       "      <td>spotify:artist:26dSoYclwsYLMAKD3tpOr4</td>\n",
       "      <td>Toxic</td>\n",
       "      <td>spotify:album:0z7pVBGOD7HCIB7S8eLkLI</td>\n",
       "      <td>198800</td>\n",
       "      <td>In The Zone</td>\n",
       "      <td>pop</td>\n",
       "      <td>2003.0</td>\n",
       "    </tr>\n",
       "    <tr>\n",
       "      <th>2</th>\n",
       "      <td>4</td>\n",
       "      <td>Shaggy</td>\n",
       "      <td>spotify:track:1lzr43nnXAijIGYnCT8M8H</td>\n",
       "      <td>spotify:artist:5EvFsr3kj42KNv97ZEnqij</td>\n",
       "      <td>It Wasn't Me</td>\n",
       "      <td>spotify:album:6NmFmPX56pcLBOFMhIiKvF</td>\n",
       "      <td>227600</td>\n",
       "      <td>Hot Shot</td>\n",
       "      <td>reggae</td>\n",
       "      <td>2000.0</td>\n",
       "    </tr>\n",
       "    <tr>\n",
       "      <th>3</th>\n",
       "      <td>5</td>\n",
       "      <td>Usher</td>\n",
       "      <td>spotify:track:0XUfyU2QviPAs6bxSpXYG4</td>\n",
       "      <td>spotify:artist:23zg3TcAtWQy7J6upgbUnj</td>\n",
       "      <td>Yeah!</td>\n",
       "      <td>spotify:album:0vO0b1AvY49CPQyVisJLj0</td>\n",
       "      <td>250373</td>\n",
       "      <td>Confessions</td>\n",
       "      <td>r&amp;b</td>\n",
       "      <td>2004.0</td>\n",
       "    </tr>\n",
       "    <tr>\n",
       "      <th>4</th>\n",
       "      <td>6</td>\n",
       "      <td>Usher</td>\n",
       "      <td>spotify:track:68vgtRHr7iZHpzGpon6Jlo</td>\n",
       "      <td>spotify:artist:23zg3TcAtWQy7J6upgbUnj</td>\n",
       "      <td>My Boo</td>\n",
       "      <td>spotify:album:1RM6MGv6bcl6NrAG8PGoZk</td>\n",
       "      <td>223440</td>\n",
       "      <td>Confessions</td>\n",
       "      <td>r&amp;b</td>\n",
       "      <td>2004.0</td>\n",
       "    </tr>\n",
       "  </tbody>\n",
       "</table>\n",
       "</div>"
      ],
      "text/plain": [
       "   pos     artist_name                             track_uri  \\\n",
       "0    0   Missy Elliott  spotify:track:0UaMYEvWZi0ZqiDOoHU3YI   \n",
       "1    1  Britney Spears  spotify:track:6I9VzXrHxO9rA9A5euc8Ak   \n",
       "2    4          Shaggy  spotify:track:1lzr43nnXAijIGYnCT8M8H   \n",
       "3    5           Usher  spotify:track:0XUfyU2QviPAs6bxSpXYG4   \n",
       "4    6           Usher  spotify:track:68vgtRHr7iZHpzGpon6Jlo   \n",
       "\n",
       "                              artist_uri  \\\n",
       "0  spotify:artist:2wIVse2owClT7go1WT98tk   \n",
       "1  spotify:artist:26dSoYclwsYLMAKD3tpOr4   \n",
       "2  spotify:artist:5EvFsr3kj42KNv97ZEnqij   \n",
       "3  spotify:artist:23zg3TcAtWQy7J6upgbUnj   \n",
       "4  spotify:artist:23zg3TcAtWQy7J6upgbUnj   \n",
       "\n",
       "                                   track_name  \\\n",
       "0  Lose Control (feat. Ciara & Fat Man Scoop)   \n",
       "1                                       Toxic   \n",
       "2                                It Wasn't Me   \n",
       "3                                       Yeah!   \n",
       "4                                      My Boo   \n",
       "\n",
       "                              album_uri  duration_ms    album_name    Genre  \\\n",
       "0  spotify:album:6vV5UrXcfyQD1wu4Qo2I9K       226863  The Cookbook  hip hop   \n",
       "1  spotify:album:0z7pVBGOD7HCIB7S8eLkLI       198800   In The Zone      pop   \n",
       "2  spotify:album:6NmFmPX56pcLBOFMhIiKvF       227600      Hot Shot   reggae   \n",
       "3  spotify:album:0vO0b1AvY49CPQyVisJLj0       250373   Confessions      r&b   \n",
       "4  spotify:album:1RM6MGv6bcl6NrAG8PGoZk       223440   Confessions      r&b   \n",
       "\n",
       "   releaseYear  \n",
       "0       2005.0  \n",
       "1       2003.0  \n",
       "2       2000.0  \n",
       "3       2004.0  \n",
       "4       2004.0  "
      ]
     },
     "execution_count": 4,
     "metadata": {},
     "output_type": "execute_result"
    }
   ],
   "source": [
    "df.head()"
   ]
  },
  {
   "cell_type": "code",
   "execution_count": 5,
   "id": "0ccccc34",
   "metadata": {},
   "outputs": [
    {
     "data": {
      "text/plain": [
       "0                      hip hop\n",
       "1                          pop\n",
       "2                       reggae\n",
       "3                          r&b\n",
       "4                          r&b\n",
       "5    southern hip hop, hip hop\n",
       "6                          r&b\n",
       "7                          r&b\n",
       "8               pop punk, punk\n",
       "9                          r&b\n",
       "Name: Genre, dtype: object"
      ]
     },
     "execution_count": 5,
     "metadata": {},
     "output_type": "execute_result"
    }
   ],
   "source": [
    "genre = df['Genre']\n",
    "genre.head(10)"
   ]
  },
  {
   "cell_type": "code",
   "execution_count": 6,
   "id": "22c58b85",
   "metadata": {},
   "outputs": [
    {
     "data": {
      "text/plain": [
       "0    226863\n",
       "1    198800\n",
       "2    227600\n",
       "3    250373\n",
       "4    223440\n",
       "5    235213\n",
       "6    256426\n",
       "7    229866\n",
       "8    193042\n",
       "9    229040\n",
       "Name: duration_ms, dtype: int64"
      ]
     },
     "execution_count": 6,
     "metadata": {},
     "output_type": "execute_result"
    }
   ],
   "source": [
    "duration = df['duration_ms']\n",
    "duration.head(10)"
   ]
  },
  {
   "cell_type": "code",
   "execution_count": 7,
   "id": "864cc78c",
   "metadata": {},
   "outputs": [
    {
     "data": {
      "text/plain": [
       "0    2005.0\n",
       "1    2003.0\n",
       "2    2000.0\n",
       "3    2004.0\n",
       "4    2004.0\n",
       "5    2003.0\n",
       "6    2006.0\n",
       "7    2005.0\n",
       "8    2011.0\n",
       "9    2005.0\n",
       "Name: releaseYear, dtype: float64"
      ]
     },
     "execution_count": 7,
     "metadata": {},
     "output_type": "execute_result"
    }
   ],
   "source": [
    "releaseYear = df['releaseYear']\n",
    "releaseYear.head(10)"
   ]
  },
  {
   "cell_type": "code",
   "execution_count": 8,
   "id": "84309ec2",
   "metadata": {},
   "outputs": [
    {
     "data": {
      "text/plain": [
       "1885.0"
      ]
     },
     "execution_count": 8,
     "metadata": {},
     "output_type": "execute_result"
    }
   ],
   "source": [
    "min_year = df.loc[df['releaseYear'] != 0.0, 'releaseYear'].min()\n",
    "min_year"
   ]
  },
  {
   "cell_type": "code",
   "execution_count": 9,
   "id": "e711e451",
   "metadata": {},
   "outputs": [
    {
     "data": {
      "text/plain": [
       "151"
      ]
     },
     "execution_count": 9,
     "metadata": {},
     "output_type": "execute_result"
    }
   ],
   "source": [
    "min_duration = df.loc[df['duration_ms'] != 0.0, 'duration_ms'].min()\n",
    "min_duration"
   ]
  },
  {
   "cell_type": "code",
   "execution_count": 10,
   "id": "7b994d9f",
   "metadata": {},
   "outputs": [
    {
     "data": {
      "text/plain": [
       "2021.0"
      ]
     },
     "execution_count": 10,
     "metadata": {},
     "output_type": "execute_result"
    }
   ],
   "source": [
    "max_year = df['releaseYear'].max()\n",
    "max_year"
   ]
  },
  {
   "cell_type": "code",
   "execution_count": 11,
   "id": "70dee2e5",
   "metadata": {},
   "outputs": [
    {
     "data": {
      "text/plain": [
       "10435467"
      ]
     },
     "execution_count": 11,
     "metadata": {},
     "output_type": "execute_result"
    }
   ],
   "source": [
    "max_duration = df['duration_ms'].max()\n",
    "max_duration"
   ]
  },
  {
   "cell_type": "code",
   "execution_count": 12,
   "id": "e4046cd8",
   "metadata": {},
   "outputs": [
    {
     "name": "stdout",
     "output_type": "stream",
     "text": [
      "<class 'pandas.core.frame.DataFrame'>\n",
      "RangeIndex: 2950 entries, 0 to 2949\n",
      "Data columns (total 10 columns):\n",
      " #   Column       Non-Null Count  Dtype  \n",
      "---  ------       --------------  -----  \n",
      " 0   pos          2950 non-null   int64  \n",
      " 1   artist_name  2950 non-null   object \n",
      " 2   track_uri    2950 non-null   object \n",
      " 3   artist_uri   2950 non-null   object \n",
      " 4   track_name   2950 non-null   object \n",
      " 5   album_uri    2950 non-null   object \n",
      " 6   duration_ms  2950 non-null   int64  \n",
      " 7   album_name   2950 non-null   object \n",
      " 8   Genre        2950 non-null   object \n",
      " 9   releaseYear  2527 non-null   float64\n",
      "dtypes: float64(1), int64(2), object(7)\n",
      "memory usage: 230.6+ KB\n"
     ]
    }
   ],
   "source": [
    "df_sample = df.sample(frac=1/50, random_state=42)\n",
    "df_sample.reset_index(drop=True, inplace=True)\n",
    "df_sample.info()"
   ]
  },
  {
   "cell_type": "code",
   "execution_count": 13,
   "id": "e7fdedf1",
   "metadata": {},
   "outputs": [
    {
     "data": {
      "text/plain": [
       "array([-1, -1, -1, ..., -1, -1, -1], dtype=int64)"
      ]
     },
     "execution_count": 13,
     "metadata": {},
     "output_type": "execute_result"
    }
   ],
   "source": [
    "X = df[['pos', 'duration_ms']]\n",
    "model = DBSCAN(eps=3, min_samples=5).fit(X)\n",
    "model.labels_"
   ]
  },
  {
   "cell_type": "code",
   "execution_count": 14,
   "id": "a41d8f2c",
   "metadata": {},
   "outputs": [
    {
     "data": {
      "text/plain": [
       "array([    0,     1,     2, ...,    -1,  6149, 10531], dtype=int64)"
      ]
     },
     "execution_count": 14,
     "metadata": {},
     "output_type": "execute_result"
    }
   ],
   "source": [
    "X2 = df[['duration_ms']]\n",
    "model = DBSCAN(eps=3, min_samples=5).fit(X2)\n",
    "model.labels_"
   ]
  },
  {
   "cell_type": "code",
   "execution_count": 15,
   "id": "78d5b819",
   "metadata": {},
   "outputs": [
    {
     "data": {
      "text/plain": [
       "0.9357721956468853"
      ]
     },
     "execution_count": 15,
     "metadata": {},
     "output_type": "execute_result"
    }
   ],
   "source": [
    "model = DBSCAN(eps=3, min_samples=5).fit(X)\n",
    "\n",
    "labels = model.labels_\n",
    "\n",
    "mask = labels != -1\n",
    "X_filtered = X[mask]\n",
    "labels_filtered = labels[mask]\n",
    "\n",
    "score = silhouette_score(X_filtered, labels_filtered)\n",
    "score"
   ]
  },
  {
   "cell_type": "code",
   "execution_count": 16,
   "id": "5c334a06",
   "metadata": {},
   "outputs": [
    {
     "data": {
      "text/plain": [
       "0.9986992340676785"
      ]
     },
     "execution_count": 16,
     "metadata": {},
     "output_type": "execute_result"
    }
   ],
   "source": [
    "model2 = DBSCAN(eps=3, min_samples=5).fit(X2)\n",
    "\n",
    "labels2 = model2.labels_\n",
    "\n",
    "mask2 = labels2 != -1\n",
    "X2_filtered = X2[mask]\n",
    "labels2_filtered = labels2[mask]\n",
    "\n",
    "score2 = silhouette_score(X2_filtered, labels2_filtered)\n",
    "score2"
   ]
  },
  {
   "cell_type": "code",
   "execution_count": 19,
   "id": "35c36c9c",
   "metadata": {},
   "outputs": [],
   "source": [
    "df_sampled = df.sample(n=10000, random_state=42)"
   ]
  },
  {
   "cell_type": "code",
   "execution_count": 20,
   "id": "a9ca25d8",
   "metadata": {},
   "outputs": [
    {
     "ename": "ValueError",
     "evalue": "Length of values (10000) does not match length of index (147519)",
     "output_type": "error",
     "traceback": [
      "\u001b[1;31m---------------------------------------------------------------------------\u001b[0m",
      "\u001b[1;31mValueError\u001b[0m                                Traceback (most recent call last)",
      "\u001b[1;32m~\\AppData\\Local\\Temp\\ipykernel_20472\\2007834660.py\u001b[0m in \u001b[0;36m<module>\u001b[1;34m\u001b[0m\n\u001b[0;32m      7\u001b[0m \u001b[0mlabels\u001b[0m \u001b[1;33m=\u001b[0m \u001b[0mmodel\u001b[0m\u001b[1;33m.\u001b[0m\u001b[0mfit_predict\u001b[0m\u001b[1;33m(\u001b[0m\u001b[0mencoded_genres_df\u001b[0m\u001b[1;33m)\u001b[0m\u001b[1;33m\u001b[0m\u001b[1;33m\u001b[0m\u001b[0m\n\u001b[0;32m      8\u001b[0m \u001b[1;33m\u001b[0m\u001b[0m\n\u001b[1;32m----> 9\u001b[1;33m \u001b[0mdf\u001b[0m\u001b[1;33m[\u001b[0m\u001b[1;34m'cluster'\u001b[0m\u001b[1;33m]\u001b[0m \u001b[1;33m=\u001b[0m \u001b[0mlabels\u001b[0m\u001b[1;33m\u001b[0m\u001b[1;33m\u001b[0m\u001b[0m\n\u001b[0m\u001b[0;32m     10\u001b[0m \u001b[1;33m\u001b[0m\u001b[0m\n\u001b[0;32m     11\u001b[0m \u001b[0mdf\u001b[0m\u001b[1;33m\u001b[0m\u001b[1;33m\u001b[0m\u001b[0m\n",
      "\u001b[1;32mC:\\ProgramData\\Anaconda3\\lib\\site-packages\\pandas\\core\\frame.py\u001b[0m in \u001b[0;36m__setitem__\u001b[1;34m(self, key, value)\u001b[0m\n\u001b[0;32m   3653\u001b[0m         \u001b[1;32melse\u001b[0m\u001b[1;33m:\u001b[0m\u001b[1;33m\u001b[0m\u001b[1;33m\u001b[0m\u001b[0m\n\u001b[0;32m   3654\u001b[0m             \u001b[1;31m# set column\u001b[0m\u001b[1;33m\u001b[0m\u001b[1;33m\u001b[0m\u001b[0m\n\u001b[1;32m-> 3655\u001b[1;33m             \u001b[0mself\u001b[0m\u001b[1;33m.\u001b[0m\u001b[0m_set_item\u001b[0m\u001b[1;33m(\u001b[0m\u001b[0mkey\u001b[0m\u001b[1;33m,\u001b[0m \u001b[0mvalue\u001b[0m\u001b[1;33m)\u001b[0m\u001b[1;33m\u001b[0m\u001b[1;33m\u001b[0m\u001b[0m\n\u001b[0m\u001b[0;32m   3656\u001b[0m \u001b[1;33m\u001b[0m\u001b[0m\n\u001b[0;32m   3657\u001b[0m     \u001b[1;32mdef\u001b[0m \u001b[0m_setitem_slice\u001b[0m\u001b[1;33m(\u001b[0m\u001b[0mself\u001b[0m\u001b[1;33m,\u001b[0m \u001b[0mkey\u001b[0m\u001b[1;33m:\u001b[0m \u001b[0mslice\u001b[0m\u001b[1;33m,\u001b[0m \u001b[0mvalue\u001b[0m\u001b[1;33m)\u001b[0m\u001b[1;33m:\u001b[0m\u001b[1;33m\u001b[0m\u001b[1;33m\u001b[0m\u001b[0m\n",
      "\u001b[1;32mC:\\ProgramData\\Anaconda3\\lib\\site-packages\\pandas\\core\\frame.py\u001b[0m in \u001b[0;36m_set_item\u001b[1;34m(self, key, value)\u001b[0m\n\u001b[0;32m   3830\u001b[0m         \u001b[0mensure\u001b[0m \u001b[0mhomogeneity\u001b[0m\u001b[1;33m.\u001b[0m\u001b[1;33m\u001b[0m\u001b[1;33m\u001b[0m\u001b[0m\n\u001b[0;32m   3831\u001b[0m         \"\"\"\n\u001b[1;32m-> 3832\u001b[1;33m         \u001b[0mvalue\u001b[0m \u001b[1;33m=\u001b[0m \u001b[0mself\u001b[0m\u001b[1;33m.\u001b[0m\u001b[0m_sanitize_column\u001b[0m\u001b[1;33m(\u001b[0m\u001b[0mvalue\u001b[0m\u001b[1;33m)\u001b[0m\u001b[1;33m\u001b[0m\u001b[1;33m\u001b[0m\u001b[0m\n\u001b[0m\u001b[0;32m   3833\u001b[0m \u001b[1;33m\u001b[0m\u001b[0m\n\u001b[0;32m   3834\u001b[0m         if (\n",
      "\u001b[1;32mC:\\ProgramData\\Anaconda3\\lib\\site-packages\\pandas\\core\\frame.py\u001b[0m in \u001b[0;36m_sanitize_column\u001b[1;34m(self, value)\u001b[0m\n\u001b[0;32m   4536\u001b[0m \u001b[1;33m\u001b[0m\u001b[0m\n\u001b[0;32m   4537\u001b[0m         \u001b[1;32mif\u001b[0m \u001b[0mis_list_like\u001b[0m\u001b[1;33m(\u001b[0m\u001b[0mvalue\u001b[0m\u001b[1;33m)\u001b[0m\u001b[1;33m:\u001b[0m\u001b[1;33m\u001b[0m\u001b[1;33m\u001b[0m\u001b[0m\n\u001b[1;32m-> 4538\u001b[1;33m             \u001b[0mcom\u001b[0m\u001b[1;33m.\u001b[0m\u001b[0mrequire_length_match\u001b[0m\u001b[1;33m(\u001b[0m\u001b[0mvalue\u001b[0m\u001b[1;33m,\u001b[0m \u001b[0mself\u001b[0m\u001b[1;33m.\u001b[0m\u001b[0mindex\u001b[0m\u001b[1;33m)\u001b[0m\u001b[1;33m\u001b[0m\u001b[1;33m\u001b[0m\u001b[0m\n\u001b[0m\u001b[0;32m   4539\u001b[0m         \u001b[1;32mreturn\u001b[0m \u001b[0msanitize_array\u001b[0m\u001b[1;33m(\u001b[0m\u001b[0mvalue\u001b[0m\u001b[1;33m,\u001b[0m \u001b[0mself\u001b[0m\u001b[1;33m.\u001b[0m\u001b[0mindex\u001b[0m\u001b[1;33m,\u001b[0m \u001b[0mcopy\u001b[0m\u001b[1;33m=\u001b[0m\u001b[1;32mTrue\u001b[0m\u001b[1;33m,\u001b[0m \u001b[0mallow_2d\u001b[0m\u001b[1;33m=\u001b[0m\u001b[1;32mTrue\u001b[0m\u001b[1;33m)\u001b[0m\u001b[1;33m\u001b[0m\u001b[1;33m\u001b[0m\u001b[0m\n\u001b[0;32m   4540\u001b[0m \u001b[1;33m\u001b[0m\u001b[0m\n",
      "\u001b[1;32mC:\\ProgramData\\Anaconda3\\lib\\site-packages\\pandas\\core\\common.py\u001b[0m in \u001b[0;36mrequire_length_match\u001b[1;34m(data, index)\u001b[0m\n\u001b[0;32m    555\u001b[0m     \"\"\"\n\u001b[0;32m    556\u001b[0m     \u001b[1;32mif\u001b[0m \u001b[0mlen\u001b[0m\u001b[1;33m(\u001b[0m\u001b[0mdata\u001b[0m\u001b[1;33m)\u001b[0m \u001b[1;33m!=\u001b[0m \u001b[0mlen\u001b[0m\u001b[1;33m(\u001b[0m\u001b[0mindex\u001b[0m\u001b[1;33m)\u001b[0m\u001b[1;33m:\u001b[0m\u001b[1;33m\u001b[0m\u001b[1;33m\u001b[0m\u001b[0m\n\u001b[1;32m--> 557\u001b[1;33m         raise ValueError(\n\u001b[0m\u001b[0;32m    558\u001b[0m             \u001b[1;34m\"Length of values \"\u001b[0m\u001b[1;33m\u001b[0m\u001b[1;33m\u001b[0m\u001b[0m\n\u001b[0;32m    559\u001b[0m             \u001b[1;34mf\"({len(data)}) \"\u001b[0m\u001b[1;33m\u001b[0m\u001b[1;33m\u001b[0m\u001b[0m\n",
      "\u001b[1;31mValueError\u001b[0m: Length of values (10000) does not match length of index (147519)"
     ]
    }
   ],
   "source": [
    "encoder = OneHotEncoder(sparse=False)\n",
    "encoded_genres = encoder.fit_transform(df_sampled[['Genre']])\n",
    "\n",
    "encoded_genres_df = pd.DataFrame(encoded_genres, columns=encoder.categories_[0])\n",
    "\n",
    "model = DBSCAN(eps=2, min_samples=5)\n",
    "labels = model.fit_predict(encoded_genres_df)\n",
    "\n",
    "df['cluster'] = labels\n",
    "\n",
    "df"
   ]
  },
  {
   "cell_type": "code",
   "execution_count": null,
   "id": "a57d825f",
   "metadata": {},
   "outputs": [],
   "source": [
    "mask = labels != -1\n",
    "if mask.any():\n",
    "    print(f\"Silhouette Score: {silhouette_score(encoded_genres_df[mask], labels[mask])}\")\n",
    "else:\n",
    "    print(\"Silhouette Score: Not applicable due to noise points.\")"
   ]
  }
 ],
 "metadata": {
  "kernelspec": {
   "display_name": "Python 3 (ipykernel)",
   "language": "python",
   "name": "python3"
  },
  "language_info": {
   "codemirror_mode": {
    "name": "ipython",
    "version": 3
   },
   "file_extension": ".py",
   "mimetype": "text/x-python",
   "name": "python",
   "nbconvert_exporter": "python",
   "pygments_lexer": "ipython3",
   "version": "3.9.13"
  }
 },
 "nbformat": 4,
 "nbformat_minor": 5
}
