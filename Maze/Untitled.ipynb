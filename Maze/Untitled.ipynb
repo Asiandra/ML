{
 "cells": [
  {
   "cell_type": "code",
   "execution_count": 5,
   "id": "8a03ab9e-497c-4368-9ad2-9c7d5cc8affd",
   "metadata": {},
   "outputs": [],
   "source": [
    "import gymnasium as gym\n",
    "import pandas as pd"
   ]
  },
  {
   "cell_type": "code",
   "execution_count": 8,
   "id": "8fe2105f-9b2a-432c-adcf-f58d90594d13",
   "metadata": {},
   "outputs": [],
   "source": [
    "maze = [\n",
    "    \"FFFG\",\n",
    "    \"SHFH\",\n",
    "    \"FFFF\"\n",
    "]\n",
    "\n",
    "env = gym.make('FrozenLake-v1', desc=maze, render_mode='human')\n",
    "initial_state = env.reset()\n",
    "\n",
    "num_states = env.observation_space.n\n",
    "num_actions = env.action_space.n\n",
    "q_table = [[0 for _ in range(num_actions)] for _ in range(num_states)]\n",
    "\n",
    "alpha = 0.2\n",
    "gamma = 0.9\n",
    "epsilon = 1.0\n",
    "epsilon_decay = 0.99\n",
    "min_epsilon = 0.2\n",
    "\n",
    "rewards = {\n",
    "    'S': 0,\n",
    "    'F': -1,\n",
    "    'H': -10,\n",
    "    'G': 10\n",
    "}"
   ]
  },
  {
   "cell_type": "code",
   "execution_count": null,
   "id": "3dd884a7-4bd5-4fcf-9540-84d2ff7840c0",
   "metadata": {},
   "outputs": [],
   "source": [
    "for episode in range(1001):\n",
    "    state = env.reset()[0]\n",
    "    terminated = False\n",
    "\n",
    "    while not terminated:\n",
    "        if random.uniform(0, 1) < epsilon:\n",
    "            action = env.action_space.sample()\n",
    "        else:\n",
    "            action = max(range(num_actions), key=lambda a: q_table[state][a])\n",
    "\n",
    "        new_state, reward, terminated, truncated, info = env.step(action)\n",
    "\n",
    "        row = new_state // len(maze[0])\n",
    "        col = new_state % len(maze[0])\n",
    "        tile_type = maze[row][col]\n",
    "\n",
    "        reward = rewards.get(tile_type, 0)\n",
    "\n",
    "        if tile_type in ['H', 'G']:\n",
    "            terminated = True\n",
    "\n",
    "        old_value = q_table[state][action]\n",
    "        next_max = max(q_table[new_state])\n",
    "        new_value = (1 - alpha) * old_value + alpha * (reward + gamma * next_max)\n",
    "        q_table[state][action] = new_value\n",
    "\n",
    "        state = new_state\n",
    "\n",
    "    epsilon = max(min_epsilon, epsilon * epsilon_decay)\n",
    "\n",
    "    if episode % 100 == 0:\n",
    "        print(f\"Episode: {episode}, Epsilon: {epsilon:.2f}\")"
   ]
  }
 ],
 "metadata": {
  "kernelspec": {
   "display_name": "Python 3 (ipykernel)",
   "language": "python",
   "name": "python3"
  },
  "language_info": {
   "codemirror_mode": {
    "name": "ipython",
    "version": 3
   },
   "file_extension": ".py",
   "mimetype": "text/x-python",
   "name": "python",
   "nbconvert_exporter": "python",
   "pygments_lexer": "ipython3",
   "version": "3.12.7"
  }
 },
 "nbformat": 4,
 "nbformat_minor": 5
}
