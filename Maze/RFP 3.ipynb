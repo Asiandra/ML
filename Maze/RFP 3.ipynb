{
 "cells": [
  {
   "cell_type": "markdown",
   "id": "fdb73e9d",
   "metadata": {},
   "source": [
    "# RFP: Maze Solvers\n",
    "\n",
    "## Project Overview\n",
    "You are invited to submit a proposal that answers the following question:\n",
    "\n",
    "### What path will your elf take?\n",
    "\n",
    "*Please submit your proposal by **2/11/25 at 11:59 PM**.*"
   ]
  },
  {
   "cell_type": "markdown",
   "id": "d88b6a60",
   "metadata": {},
   "source": [
    "## Required Proposal Components\n",
    "\n",
    "### 1. Data Description\n",
    "In the code cell below, use [Gymnasium](https://gymnasium.farama.org/) to set up a [Frozen Lake maze](https://gymnasium.farama.org/environments/toy_text/frozen_lake/) for your project. When you are done with the set up, describe the reward system you plan on using.\n",
    "\n",
    "*Note, a level 5 maze is at least 10 x 10 cells large and contains at least five lake cells.*"
   ]
  },
  {
   "cell_type": "code",
   "execution_count": null,
   "id": "8d9a7b92",
   "metadata": {},
   "outputs": [],
   "source": [
    "# !pip install \"gymnasium[toy-text]\""
   ]
  },
  {
   "cell_type": "code",
   "execution_count": 1,
   "id": "aec0305b",
   "metadata": {},
   "outputs": [],
   "source": [
    "import gymnasium as gym\n",
    "from gymnasium.envs.toy_text.frozen_lake import generate_random_map\n",
    "import pandas as pd\n",
    "import random"
   ]
  },
  {
   "cell_type": "code",
   "execution_count": 2,
   "id": "e3577d46",
   "metadata": {},
   "outputs": [],
   "source": [
    "# Make maze\n",
    "maze = [\n",
    "    \"SFFFFHFFHH\",\n",
    "    \"FFFFFFFFFF\",\n",
    "    \"FFFFFFFFFH\",\n",
    "    \"FHFFFHFFFF\",\n",
    "    \"FFFFFHHFFF\",\n",
    "    \"HFHFFFFFHF\",\n",
    "    \"FFFFFFFFHF\",\n",
    "    \"FHFFFFFFFF\",\n",
    "    \"FFHFFFFFGH\",\n",
    "    \"FFHFFHHFFH\"\n",
    "]\n",
    "\n",
    "env = gym.make('FrozenLake-v1', desc=maze, render_mode='rgb_array')\n",
    "initial_state = env.reset()\n",
    "\n",
    "num_states = env.observation_space.n\n",
    "num_actions = env.action_space.n\n",
    "q_table = [[0 for _ in range(num_actions)] for _ in range(num_states)]\n",
    "\n",
    "alpha = 0.2\n",
    "gamma = 0.9\n",
    "epsilon = 1.0\n",
    "epsilon_decay = 0.99\n",
    "min_epsilon = 0.2\n",
    "\n",
    "rewards = {\n",
    "    'S': 0,\n",
    "    'F': -1,\n",
    "    'H': -10,\n",
    "    'G': 10\n",
    "}"
   ]
  },
  {
   "cell_type": "markdown",
   "id": "c38ed9f9",
   "metadata": {},
   "source": [
    "<h4>Ice - Lose 5 points<br>\n",
    "Empty space - None<br>\n",
    "Big gift - Gain a hundred points, end game</h4>"
   ]
  },
  {
   "cell_type": "markdown",
   "id": "67f80b3f",
   "metadata": {},
   "source": [
    "### 2. Training Your Model\n",
    "In the cell seen below, write the code you need to train a Q-Learning model. Display your final Q-table once you are done training your model.\n",
    "\n",
    "*Note, level 5 work uses only the standard Python library and Pandas to train your Q-Learning model. A level 4 uses external libraries like Baseline3.*"
   ]
  },
  {
   "cell_type": "code",
   "execution_count": 3,
   "id": "73e62305",
   "metadata": {},
   "outputs": [
    {
     "name": "stdout",
     "output_type": "stream",
     "text": [
      "Episode: 0, Epsilon: 0.99\n",
      "Episode: 100, Epsilon: 0.36\n",
      "Episode: 200, Epsilon: 0.20\n",
      "Episode: 300, Epsilon: 0.20\n",
      "Episode: 400, Epsilon: 0.20\n",
      "Episode: 500, Epsilon: 0.20\n",
      "Episode: 600, Epsilon: 0.20\n",
      "Episode: 700, Epsilon: 0.20\n",
      "Episode: 800, Epsilon: 0.20\n",
      "Episode: 900, Epsilon: 0.20\n",
      "Episode: 1000, Epsilon: 0.20\n"
     ]
    }
   ],
   "source": [
    "# Train model here.\n",
    "for episode in range(1001):\n",
    "    state = env.reset()[0]\n",
    "    terminated = False\n",
    "\n",
    "    while not terminated:\n",
    "        if random.uniform(0, 1) < epsilon:\n",
    "            action = env.action_space.sample()\n",
    "        else:\n",
    "            action = max(range(num_actions), key=lambda a: q_table[state][a])\n",
    "\n",
    "        new_state, reward, terminated, truncated, info = env.step(action)\n",
    "\n",
    "        row = new_state // len(maze[0])\n",
    "        col = new_state % len(maze[0])\n",
    "        tile_type = maze[row][col]\n",
    "\n",
    "        reward = rewards.get(tile_type, 0)\n",
    "\n",
    "        if tile_type in ['H', 'G']:\n",
    "            terminated = True\n",
    "\n",
    "        old_value = q_table[state][action]\n",
    "        next_max = max(q_table[new_state])\n",
    "        new_value = (1 - alpha) * old_value + alpha * (reward + gamma * next_max)\n",
    "        q_table[state][action] = new_value\n",
    "\n",
    "        state = new_state\n",
    "\n",
    "    epsilon = max(min_epsilon, epsilon * epsilon_decay)\n",
    "\n",
    "    if episode % 100 == 0:\n",
    "        print(f\"Episode: {episode}, Epsilon: {epsilon:.2f}\")"
   ]
  },
  {
   "cell_type": "code",
   "execution_count": 4,
   "id": "21553567-2bb4-40ce-98df-556dd88c7f22",
   "metadata": {},
   "outputs": [
    {
     "data": {
      "text/html": [
       "<div>\n",
       "<style scoped>\n",
       "    .dataframe tbody tr th:only-of-type {\n",
       "        vertical-align: middle;\n",
       "    }\n",
       "\n",
       "    .dataframe tbody tr th {\n",
       "        vertical-align: top;\n",
       "    }\n",
       "\n",
       "    .dataframe thead th {\n",
       "        text-align: right;\n",
       "    }\n",
       "</style>\n",
       "<table border=\"1\" class=\"dataframe\">\n",
       "  <thead>\n",
       "    <tr style=\"text-align: right;\">\n",
       "      <th></th>\n",
       "      <th>Left</th>\n",
       "      <th>Down</th>\n",
       "      <th>Right</th>\n",
       "      <th>Up</th>\n",
       "    </tr>\n",
       "  </thead>\n",
       "  <tbody>\n",
       "    <tr>\n",
       "      <th>0</th>\n",
       "      <td>-6.614559</td>\n",
       "      <td>-6.576628</td>\n",
       "      <td>-6.332388</td>\n",
       "      <td>-5.887974</td>\n",
       "    </tr>\n",
       "    <tr>\n",
       "      <th>1</th>\n",
       "      <td>-6.703602</td>\n",
       "      <td>-7.713717</td>\n",
       "      <td>-7.921833</td>\n",
       "      <td>-7.599763</td>\n",
       "    </tr>\n",
       "    <tr>\n",
       "      <th>2</th>\n",
       "      <td>-8.085709</td>\n",
       "      <td>-7.880595</td>\n",
       "      <td>-8.466401</td>\n",
       "      <td>-8.102199</td>\n",
       "    </tr>\n",
       "    <tr>\n",
       "      <th>3</th>\n",
       "      <td>-8.523656</td>\n",
       "      <td>-8.778192</td>\n",
       "      <td>-8.760173</td>\n",
       "      <td>-8.903757</td>\n",
       "    </tr>\n",
       "    <tr>\n",
       "      <th>4</th>\n",
       "      <td>-8.828812</td>\n",
       "      <td>-9.165084</td>\n",
       "      <td>-9.050946</td>\n",
       "      <td>-9.086946</td>\n",
       "    </tr>\n",
       "  </tbody>\n",
       "</table>\n",
       "</div>"
      ],
      "text/plain": [
       "       Left      Down     Right        Up\n",
       "0 -6.614559 -6.576628 -6.332388 -5.887974\n",
       "1 -6.703602 -7.713717 -7.921833 -7.599763\n",
       "2 -8.085709 -7.880595 -8.466401 -8.102199\n",
       "3 -8.523656 -8.778192 -8.760173 -8.903757\n",
       "4 -8.828812 -9.165084 -9.050946 -9.086946"
      ]
     },
     "execution_count": 4,
     "metadata": {},
     "output_type": "execute_result"
    }
   ],
   "source": [
    "df = pd.DataFrame(q_table, columns=[\"Left\", \"Down\", \"Right\", \"Up\"])\n",
    "df.head()"
   ]
  },
  {
   "cell_type": "code",
   "execution_count": null,
   "id": "a9076ae2-1ca0-4436-b1f6-692c5d8b0666",
   "metadata": {},
   "outputs": [],
   "source": [
    "# env.close()"
   ]
  },
  {
   "cell_type": "markdown",
   "id": "3b912364",
   "metadata": {},
   "source": [
    "### 3. Testing Your Model\n",
    "In the cell seen below, write the code you need to test your Q-Learning model for **1000 episodes**. It is important to test your model for 1000 episodes so that we are all able to compare our results.\n",
    "\n",
    "*Note, level 5 testing uses both a success rate and an average steps taken metric to evaluate your model. Level 4 uses one or the other.*"
   ]
  },
  {
   "cell_type": "code",
   "execution_count": null,
   "id": "e30cf1dd",
   "metadata": {},
   "outputs": [],
   "source": [
    "successes = 0\n",
    "total_steps = 0\n",
    "steps = 0\n",
    "\n",
    "for episode in range(1000):\n",
    "    state = env.reset()[0]\n",
    "    terminated = False\n",
    "\n",
    "    while not terminated:\n",
    "        action = max(range(num_actions), key=lambda a: q_table[state][a])\n",
    "        new_state, reward, terminated, truncated, info = env.step(action)\n",
    "\n",
    "        print(f\"Episode {episode}, Step {steps}, State: {state}, Action: {action}, Reward: {reward}\")\n",
    "        \n",
    "        steps += 1\n",
    "\n",
    "\n",
    "        if reward == 10:\n",
    "            successes += 1\n",
    "            break\n",
    "\n",
    "        state = new_state\n",
    "\n",
    "    total_steps += steps\n",
    "\n",
    "success_rate = (successes / 1000) * 100\n",
    "average_steps = total_steps / 1000\n",
    "\n",
    "print(f\"Success rate: {success_rate}%\")\n",
    "print(f\"Average steps taken: {average_steps}\")"
   ]
  },
  {
   "cell_type": "code",
   "execution_count": null,
   "id": "843b6622",
   "metadata": {},
   "outputs": [],
   "source": [
    "import matplotlib.pyplot as plt\n",
    "\n",
    "observation = env.render()\n",
    "plt.imshow(observation)\n",
    "plt.axis('off')\n",
    "plt.show()"
   ]
  },
  {
   "cell_type": "markdown",
   "id": "78e7e09e",
   "metadata": {},
   "source": [
    "### 4. Final Answer\n",
    "In the first cell below, describe the path your elf takes to get to the gift. *Note, a level 5 answer includes a gif of the path your elf takes in order to reach the gift.*\n",
    "\n",
    "In the second cell seen below, describe how well your Q-Learning model performed. Make sure that you explicitly name the **learning rate**, **the discount factor**, and the **reward system** that you used when training your final model. *Note, a level 5 description describes the model's performance using two types of quantitative evidence.*"
   ]
  },
  {
   "cell_type": "markdown",
   "id": "9b6eef8e",
   "metadata": {},
   "source": [
    "![example image](https://gymnasium.farama.org/_images/frozen_lake.gif)"
   ]
  },
  {
   "cell_type": "markdown",
   "id": "54fdae15",
   "metadata": {},
   "source": [
    "<h4>Describe the path your elf takes here.</h4>"
   ]
  },
  {
   "cell_type": "markdown",
   "id": "6b8f66ed",
   "metadata": {},
   "source": [
    "<h4>Describe how well your Q-Learning model performed here.</h4>"
   ]
  },
  {
   "cell_type": "code",
   "execution_count": null,
   "id": "31b16921",
   "metadata": {},
   "outputs": [],
   "source": []
  }
 ],
 "metadata": {
  "kernelspec": {
   "display_name": "Python 3 (ipykernel)",
   "language": "python",
   "name": "python3"
  },
  "language_info": {
   "codemirror_mode": {
    "name": "ipython",
    "version": 3
   },
   "file_extension": ".py",
   "mimetype": "text/x-python",
   "name": "python",
   "nbconvert_exporter": "python",
   "pygments_lexer": "ipython3",
   "version": "3.12.7"
  }
 },
 "nbformat": 4,
 "nbformat_minor": 5
}
