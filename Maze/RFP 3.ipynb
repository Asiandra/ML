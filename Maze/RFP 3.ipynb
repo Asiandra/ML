{
 "cells": [
  {
   "cell_type": "markdown",
   "id": "fdb73e9d",
   "metadata": {},
   "source": [
    "# RFP: Maze Solvers\n",
    "\n",
    "## Project Overview\n",
    "You are invited to submit a proposal that answers the following question:\n",
    "\n",
    "### What path will your elf take?\n",
    "\n",
    "*Please submit your proposal by **2/11/25 at 11:59 PM**.*"
   ]
  },
  {
   "cell_type": "markdown",
   "id": "d88b6a60",
   "metadata": {},
   "source": [
    "## Required Proposal Components\n",
    "\n",
    "### 1. Data Description\n",
    "In the code cell below, use [Gymnasium](https://gymnasium.farama.org/) to set up a [Frozen Lake maze](https://gymnasium.farama.org/environments/toy_text/frozen_lake/) for your project. When you are done with the set up, describe the reward system you plan on using.\n",
    "\n",
    "*Note, a level 5 maze is at least 10 x 10 cells large and contains at least five lake cells.*"
   ]
  },
  {
   "cell_type": "code",
   "execution_count": null,
   "id": "8d9a7b92",
   "metadata": {},
   "outputs": [],
   "source": [
    "!pip install \"gymnasium[toy-text]\""
   ]
  },
  {
   "cell_type": "code",
   "execution_count": 1,
   "id": "aec0305b",
   "metadata": {},
   "outputs": [],
   "source": [
    "import gymnasium as gym\n",
    "from gymnasium.envs.toy_text.frozen_lake import generate_random_map\n",
    "import pandas as pd\n",
    "import random"
   ]
  },
  {
   "cell_type": "code",
   "execution_count": 2,
   "id": "e3577d46",
   "metadata": {},
   "outputs": [],
   "source": [
    "# Make maze\n",
    "maze = [\n",
    "    \"SFFFFHFFHH\",\n",
    "    \"FFFFFFFFFF\",\n",
    "    \"FFHFFFFFFH\",\n",
    "    \"FHFFFHFFFF\",\n",
    "    \"FFFFFHHFFF\",\n",
    "    \"HFHFFFFFHF\",\n",
    "    \"FFFFHFFFHF\",\n",
    "    \"FHFFFFFFHF\",\n",
    "    \"FFHFFFFFGH\",\n",
    "    \"FFHFFHHFFH\"\n",
    "]\n",
    "\n",
    "env = gym.make('FrozenLake-v1', desc=maze, render_mode='human')\n",
    "initial_state = env.reset()\n",
    "\n",
    "env.render()\n",
    "\n",
    "num_states = env.observation_space.n\n",
    "num_actions = env.action_space.n\n",
    "q_table = [[0 for _ in range(num_actions)] for _ in range(num_states)]\n",
    "\n",
    "alpha = 0.5\n",
    "gamma = 0.9\n",
    "epsilon = 1.0\n",
    "epsilon_decay = 0.999\n",
    "min_epsilon = 0.01\n",
    "\n",
    "rewards = {\n",
    "    'S': 5, \n",
    "    'F': -1,\n",
    "    'H': 0, \n",
    "    'G': 10\n",
    "}"
   ]
  },
  {
   "cell_type": "markdown",
   "id": "c38ed9f9",
   "metadata": {},
   "source": [
    "<h4>Ice - Lose 2 points<br>\n",
    "Empty space - Lose one point<br>\n",
    "Small gift - Gain five points<br>\n",
    "Big gift - Gain ten points, end game</h4>"
   ]
  },
  {
   "cell_type": "markdown",
   "id": "67f80b3f",
   "metadata": {},
   "source": [
    "### 2. Training Your Model\n",
    "In the cell seen below, write the code you need to train a Q-Learning model. Display your final Q-table once you are done training your model.\n",
    "\n",
    "*Note, level 5 work uses only the standard Python library and Pandas to train your Q-Learning model. A level 4 uses external libraries like Baseline3.*"
   ]
  },
  {
   "cell_type": "code",
   "execution_count": null,
   "id": "73e62305",
   "metadata": {},
   "outputs": [],
   "source": [
    "# Train model here.\n",
    "for episode in range(1000):\n",
    "    state = env.reset()[0]\n",
    "    terminated = False\n",
    "\n",
    "    while not terminated:\n",
    "        if random.uniform(0, 1) < epsilon:\n",
    "            action = env.action_space.sample()\n",
    "        else:\n",
    "            action = max(range(num_actions), key=lambda a: q_table[state][a])\n",
    "\n",
    "        new_state, reward, terminated, truncated, info = env.step(action)\n",
    "\n",
    "        row = new_state // len(maze[0])\n",
    "        col = new_state % len(maze[0])\n",
    "        tile_type = maze[row][col] \n",
    "\n",
    "        reward = rewards.get(tile_type, 0) \n",
    "\n",
    "        if tile_type in ['H', 'G']:\n",
    "            terminated = True\n",
    "\n",
    "        old_value = q_table[state][action]\n",
    "        next_max = max(q_table[new_state])\n",
    "        new_value = (1 - alpha) * old_value + alpha * (reward + gamma * next_max)\n",
    "        q_table[state][action] = new_value\n",
    "\n",
    "        state = new_state\n",
    "\n",
    "    epsilon = max(min_epsilon, epsilon * epsilon_decay)\n",
    "# Don't forget to display your final Q table!"
   ]
  },
  {
   "cell_type": "code",
   "execution_count": null,
   "id": "21553567-2bb4-40ce-98df-556dd88c7f22",
   "metadata": {},
   "outputs": [],
   "source": [
    "df = pd.DataFrame(q_table, columns=[\"Left\", \"Down\", \"Right\", \"Up\"])\n",
    "df.head()"
   ]
  },
  {
   "cell_type": "code",
   "execution_count": null,
   "id": "a9076ae2-1ca0-4436-b1f6-692c5d8b0666",
   "metadata": {},
   "outputs": [],
   "source": [
    "env.close()"
   ]
  },
  {
   "cell_type": "markdown",
   "id": "3b912364",
   "metadata": {},
   "source": [
    "### 3. Testing Your Model\n",
    "In the cell seen below, write the code you need to test your Q-Learning model for **1000 episodes**. It is important to test your model for 1000 episodes so that we are all able to compare our results.\n",
    "\n",
    "*Note, level 5 testing uses both a success rate and an average steps taken metric to evaluate your model. Level 4 uses one or the other.*"
   ]
  },
  {
   "cell_type": "code",
   "execution_count": null,
   "id": "e30cf1dd",
   "metadata": {},
   "outputs": [],
   "source": [
    "# Test model here.\n",
    "successes = 0\n",
    "total_steps = 0\n",
    "\n",
    "for episode in range(1000):\n",
    "    state = env.reset()[0]\n",
    "    terminated = False\n",
    "    steps = 0\n",
    "    \n",
    "    while not terminated:\n",
    "        action_values = [maze[3][state], maze[1][state], maze[0][state], maze[2][state]]\n",
    "        action = action_values.index(max(action_values)) \n",
    "        \n",
    "        new_state, reward, terminated, truncated, info = env.step(action)\n",
    "        steps += 1\n",
    "        \n",
    "        if reward == 10:\n",
    "            successes += 1\n",
    "            break\n",
    "        \n",
    "        state = new_state\n",
    "    \n",
    "    total_steps += steps\n",
    "\n",
    "success_rate = (successes / 1000) * 100\n",
    "average_steps = total_steps / 1000\n",
    "\n",
    "print(f\"Success rate: {success_rate}%\")\n",
    "print(f\"Average steps taken: {average_steps}\")"
   ]
  },
  {
   "cell_type": "markdown",
   "id": "78e7e09e",
   "metadata": {},
   "source": [
    "### 4. Final Answer\n",
    "In the first cell below, describe the path your elf takes to get to the gift. *Note, a level 5 answer includes a gif of the path your elf takes in order to reach the gift.*\n",
    "\n",
    "In the second cell seen below, describe how well your Q-Learning model performed. Make sure that you explicitly name the **learning rate**, **the discount factor**, and the **reward system** that you used when training your final model. *Note, a level 5 description describes the model's performance using two types of quantitative evidence.*"
   ]
  },
  {
   "cell_type": "markdown",
   "id": "9b6eef8e",
   "metadata": {},
   "source": [
    "![example image](https://gymnasium.farama.org/_images/frozen_lake.gif)"
   ]
  },
  {
   "cell_type": "markdown",
   "id": "54fdae15",
   "metadata": {},
   "source": [
    "#### Describe the path your elf takes here."
   ]
  },
  {
   "cell_type": "markdown",
   "id": "6b8f66ed",
   "metadata": {},
   "source": [
    "#### Describe how well your Q-Learning model performed here."
   ]
  }
 ],
 "metadata": {
  "kernelspec": {
   "display_name": "Python 3 (ipykernel)",
   "language": "python",
   "name": "python3"
  },
  "language_info": {
   "codemirror_mode": {
    "name": "ipython",
    "version": 3
   },
   "file_extension": ".py",
   "mimetype": "text/x-python",
   "name": "python",
   "nbconvert_exporter": "python",
   "pygments_lexer": "ipython3",
   "version": "3.12.7"
  }
 },
 "nbformat": 4,
 "nbformat_minor": 5
}
